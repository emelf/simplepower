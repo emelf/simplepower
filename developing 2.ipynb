{
 "cells": [
  {
   "cell_type": "code",
   "execution_count": null,
   "metadata": {},
   "outputs": [],
   "source": [
    "from simplepower.Dataclasses import GridDataClass\n",
    "from simplepower.PowerFlowModels import GridModel\n",
    "from simplepower.Utils.utils import convert_PV_to_PQ_grid \n",
    "from copy import deepcopy\n",
    "import pandas as pd \n",
    "import numpy as np"
   ]
  },
  {
   "cell_type": "code",
   "execution_count": 2,
   "metadata": {},
   "outputs": [],
   "source": [
    "import_file = \"example_grid_3.xlsx\" \n",
    "grid_data = GridDataClass(import_file, f_nom=50)\n",
    "grid_data_PQ = deepcopy(grid_data) \n",
    "grid_model = GridModel(grid_data)\n",
    "\n",
    "res_pf = grid_model.powerflow()\n",
    "grid_data_PQ = convert_PV_to_PQ_grid(grid_data, res_pf)\n",
    "grid_model_PQ = GridModel(grid_data_PQ)\n",
    "res_pf2 = grid_model_PQ.powerflow() "
   ]
  },
  {
   "cell_type": "code",
   "execution_count": 3,
   "metadata": {},
   "outputs": [
    {
     "data": {
      "text/plain": [
       "P_calc = [ 1.5    -1.4843] MW \n",
       "Q_calc = [-0.5386  0.5805] Mvar \n",
       "V_buses = [1. 1.] pu \n",
       "d_buses = [1.612032 0.      ] deg "
      ]
     },
     "execution_count": 3,
     "metadata": {},
     "output_type": "execute_result"
    }
   ],
   "source": [
    "res_pf"
   ]
  },
  {
   "cell_type": "code",
   "execution_count": 4,
   "metadata": {},
   "outputs": [
    {
     "data": {
      "text/plain": [
       "P_calc = [ 1.5    -1.4843] MW \n",
       "Q_calc = [-0.5386  0.5805] Mvar \n",
       "V_buses = [1. 1.] pu \n",
       "d_buses = [1.612032 0.      ] deg "
      ]
     },
     "execution_count": 4,
     "metadata": {},
     "output_type": "execute_result"
    }
   ],
   "source": [
    "res_pf2"
   ]
  },
  {
   "cell_type": "code",
   "execution_count": 5,
   "metadata": {},
   "outputs": [],
   "source": [
    "from gen_model_test import GenModelThirdOrderData, GenModelThirdOrder"
   ]
  },
  {
   "cell_type": "code",
   "execution_count": 6,
   "metadata": {},
   "outputs": [],
   "source": [
    "G1_data = GenModelThirdOrderData(S_nom_mva=103, V_nom_kv=11, X_d_u=1.087, X_d_u_t=0.24, \n",
    "                                 X_q_u=0.676, X_l=0.08, R_a_nom=0.00182, T_do_t=10, \n",
    "                                 H=2.66, D=0.01, bus_idx=0)\n",
    "G1_model = GenModelThirdOrder(G1_data) "
   ]
  },
  {
   "cell_type": "code",
   "execution_count": 7,
   "metadata": {},
   "outputs": [],
   "source": [
    "x0, y0, u0 = G1_model.init_state(res_pf2)"
   ]
  },
  {
   "cell_type": "code",
   "execution_count": 9,
   "metadata": {},
   "outputs": [
    {
     "data": {
      "text/plain": [
       "array([-3.03122273e-27,  6.08816203e-15, -5.96770897e-14])"
      ]
     },
     "execution_count": 9,
     "metadata": {},
     "output_type": "execute_result"
    }
   ],
   "source": [
    "G1_model._dx_dt(x0, u0, res_pf2)"
   ]
  },
  {
   "cell_type": "code",
   "execution_count": null,
   "metadata": {},
   "outputs": [
    {
     "data": {
      "text/plain": [
       "0.9996042297554527"
      ]
     },
     "execution_count": 9,
     "metadata": {},
     "output_type": "execute_result"
    }
   ],
   "source": [
    "V_a"
   ]
  },
  {
   "cell_type": "code",
   "execution_count": null,
   "metadata": {},
   "outputs": [
    {
     "data": {
      "text/plain": [
       "0.02813154554959453"
      ]
     },
     "execution_count": 10,
     "metadata": {},
     "output_type": "execute_result"
    }
   ],
   "source": [
    "V_b"
   ]
  },
  {
   "cell_type": "code",
   "execution_count": null,
   "metadata": {},
   "outputs": [
    {
     "data": {
      "text/plain": [
       "array([3.46944695e-18, 1.00000000e+00])"
      ]
     },
     "execution_count": 11,
     "metadata": {},
     "output_type": "execute_result"
    }
   ],
   "source": [
    "V_dq"
   ]
  },
  {
   "cell_type": "code",
   "execution_count": null,
   "metadata": {},
   "outputs": [],
   "source": []
  }
 ],
 "metadata": {
  "kernelspec": {
   "display_name": "simplepower",
   "language": "python",
   "name": "python3"
  },
  "language_info": {
   "codemirror_mode": {
    "name": "ipython",
    "version": 3
   },
   "file_extension": ".py",
   "mimetype": "text/x-python",
   "name": "python",
   "nbconvert_exporter": "python",
   "pygments_lexer": "ipython3",
   "version": "3.10.0"
  },
  "orig_nbformat": 4
 },
 "nbformat": 4,
 "nbformat_minor": 2
}
