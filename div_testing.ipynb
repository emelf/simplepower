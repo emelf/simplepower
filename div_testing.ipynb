{
 "cells": [
  {
   "cell_type": "code",
   "execution_count": 1,
   "metadata": {},
   "outputs": [],
   "source": [
    "import simplepower as sp \n",
    "from simplepower.Dataclasses import GridDataClass\n",
    "from simplepower.PowerFlowModels import GridModel\n",
    "import pandas as pd "
   ]
  },
  {
   "cell_type": "code",
   "execution_count": 2,
   "metadata": {},
   "outputs": [],
   "source": [
    "import_file = \"simplepower/GridData/grid_data3.xlsx\" \n",
    "grid_data = GridDataClass(import_file, f_nom=50)"
   ]
  },
  {
   "cell_type": "code",
   "execution_count": 3,
   "metadata": {},
   "outputs": [],
   "source": [
    "grid_model = GridModel(grid_data)"
   ]
  },
  {
   "cell_type": "code",
   "execution_count": 4,
   "metadata": {},
   "outputs": [],
   "source": [
    "result1 = grid_model.powerflow()"
   ]
  },
  {
   "cell_type": "code",
   "execution_count": 6,
   "metadata": {},
   "outputs": [],
   "source": [
    "result1.store_json(\"res1.json\")\n",
    "result2 = pd.read_json(\"res1.json\")"
   ]
  },
  {
   "cell_type": "code",
   "execution_count": 7,
   "metadata": {},
   "outputs": [
    {
     "data": {
      "text/plain": [
       "False"
      ]
     },
     "execution_count": 7,
     "metadata": {},
     "output_type": "execute_result"
    }
   ],
   "source": [
    "result1.get_sol_df().equals(result2)"
   ]
  },
  {
   "cell_type": "code",
   "execution_count": 8,
   "metadata": {},
   "outputs": [],
   "source": [
    "pd.testing.assert_frame_equal(result1.get_sol_df(), result2)"
   ]
  },
  {
   "cell_type": "code",
   "execution_count": 14,
   "metadata": {},
   "outputs": [],
   "source": [
    "import_file = \"simplepower/GridData/grid_data1.xlsx\" \n",
    "grid_data = GridDataClass(import_file, f_nom=50)\n",
    "grid_model = GridModel(grid_data)\n",
    "result = grid_model.powerflow()\n",
    "result.store_json(\"simplepower//tests/PowerFlowResults/results_grid_1.json\")"
   ]
  },
  {
   "cell_type": "code",
   "execution_count": 15,
   "metadata": {},
   "outputs": [],
   "source": [
    "import_file = \"simplepower/GridData/grid_data2.xlsx\" \n",
    "grid_data = GridDataClass(import_file, f_nom=50)\n",
    "grid_model = GridModel(grid_data)\n",
    "result = grid_model.powerflow()\n",
    "result.store_json(\"simplepower//tests/PowerFlowResults/results_grid_2.json\")"
   ]
  },
  {
   "cell_type": "code",
   "execution_count": 16,
   "metadata": {},
   "outputs": [],
   "source": [
    "import_file = \"simplepower/GridData/grid_data3.xlsx\" \n",
    "grid_data = GridDataClass(import_file, f_nom=50)\n",
    "grid_model = GridModel(grid_data)\n",
    "result = grid_model.powerflow()\n",
    "result.store_json(\"simplepower//tests/PowerFlowResults/results_grid_3.json\")"
   ]
  },
  {
   "cell_type": "code",
   "execution_count": 19,
   "metadata": {},
   "outputs": [],
   "source": [
    "import_file = \"simplepower/GridData/grid_data4.xlsx\" \n",
    "grid_data = GridDataClass(import_file, f_nom=50)\n",
    "grid_model = GridModel(grid_data)\n",
    "result = grid_model.powerflow()\n",
    "result.store_json(\"simplepower//tests/PowerFlowResults/results_grid_4.json\")"
   ]
  },
  {
   "cell_type": "code",
   "execution_count": 20,
   "metadata": {},
   "outputs": [],
   "source": [
    "import_file = \"simplepower/GridData/grid_data5.xlsx\" \n",
    "grid_data = GridDataClass(import_file, f_nom=50)\n",
    "grid_model = GridModel(grid_data)\n",
    "result = grid_model.powerflow()\n",
    "result.store_json(\"simplepower//tests/PowerFlowResults/results_grid_5.json\")"
   ]
  },
  {
   "cell_type": "code",
   "execution_count": 21,
   "metadata": {},
   "outputs": [
    {
     "ename": "KeyError",
     "evalue": "'I_lim_A'",
     "output_type": "error",
     "traceback": [
      "\u001b[1;31m---------------------------------------------------------------------------\u001b[0m",
      "\u001b[1;31mKeyError\u001b[0m                                  Traceback (most recent call last)",
      "File \u001b[1;32mc:\\Users\\emelf\\Anaconda3\\envs\\simplepower\\lib\\site-packages\\pandas\\core\\indexes\\base.py:3653\u001b[0m, in \u001b[0;36mIndex.get_loc\u001b[1;34m(self, key)\u001b[0m\n\u001b[0;32m   3652\u001b[0m \u001b[39mtry\u001b[39;00m:\n\u001b[1;32m-> 3653\u001b[0m     \u001b[39mreturn\u001b[39;00m \u001b[39mself\u001b[39;49m\u001b[39m.\u001b[39;49m_engine\u001b[39m.\u001b[39;49mget_loc(casted_key)\n\u001b[0;32m   3654\u001b[0m \u001b[39mexcept\u001b[39;00m \u001b[39mKeyError\u001b[39;00m \u001b[39mas\u001b[39;00m err:\n",
      "File \u001b[1;32mc:\\Users\\emelf\\Anaconda3\\envs\\simplepower\\lib\\site-packages\\pandas\\_libs\\index.pyx:147\u001b[0m, in \u001b[0;36mpandas._libs.index.IndexEngine.get_loc\u001b[1;34m()\u001b[0m\n",
      "File \u001b[1;32mc:\\Users\\emelf\\Anaconda3\\envs\\simplepower\\lib\\site-packages\\pandas\\_libs\\index.pyx:176\u001b[0m, in \u001b[0;36mpandas._libs.index.IndexEngine.get_loc\u001b[1;34m()\u001b[0m\n",
      "File \u001b[1;32mpandas\\_libs\\hashtable_class_helper.pxi:7080\u001b[0m, in \u001b[0;36mpandas._libs.hashtable.PyObjectHashTable.get_item\u001b[1;34m()\u001b[0m\n",
      "File \u001b[1;32mpandas\\_libs\\hashtable_class_helper.pxi:7088\u001b[0m, in \u001b[0;36mpandas._libs.hashtable.PyObjectHashTable.get_item\u001b[1;34m()\u001b[0m\n",
      "\u001b[1;31mKeyError\u001b[0m: 'I_lim_A'",
      "\nThe above exception was the direct cause of the following exception:\n",
      "\u001b[1;31mKeyError\u001b[0m                                  Traceback (most recent call last)",
      "Cell \u001b[1;32mIn[21], line 2\u001b[0m\n\u001b[0;32m      1\u001b[0m import_file \u001b[39m=\u001b[39m \u001b[39m\"\u001b[39m\u001b[39msimplepower/GridData/grid_data6.xlsx\u001b[39m\u001b[39m\"\u001b[39m \n\u001b[1;32m----> 2\u001b[0m grid_data \u001b[39m=\u001b[39m GridDataClass(import_file, f_nom\u001b[39m=\u001b[39;49m\u001b[39m50\u001b[39;49m)\n\u001b[0;32m      3\u001b[0m grid_model \u001b[39m=\u001b[39m GridModel(grid_data)\n\u001b[0;32m      4\u001b[0m result \u001b[39m=\u001b[39m grid_model\u001b[39m.\u001b[39mpowerflow()\n",
      "File \u001b[1;32mc:\\Users\\emelf\\OneDrive - USN\\PhD - SysOpt\\Python Work\\Custom Modules\\simplepower\\simplepower\\Dataclasses\\GridDataClass.py:56\u001b[0m, in \u001b[0;36mGridDataClass.__init__\u001b[1;34m(self, filename, f_nom, V_init, delta_init, S_base_mva)\u001b[0m\n\u001b[0;32m     54\u001b[0m \u001b[39mself\u001b[39m\u001b[39m.\u001b[39m_read_data(filename)\n\u001b[0;32m     55\u001b[0m \u001b[39mself\u001b[39m\u001b[39m.\u001b[39m_set_base_vals(f_nom, S_base_mva)\n\u001b[1;32m---> 56\u001b[0m \u001b[39mself\u001b[39;49m\u001b[39m.\u001b[39;49m_set_lim_vals()\n\u001b[0;32m     57\u001b[0m \u001b[39mself\u001b[39m\u001b[39m.\u001b[39m_set_init_condition(V_init, delta_init)\n\u001b[0;32m     58\u001b[0m \u001b[39mself\u001b[39m\u001b[39m.\u001b[39m_set_line_data()\n",
      "File \u001b[1;32mc:\\Users\\emelf\\OneDrive - USN\\PhD - SysOpt\\Python Work\\Custom Modules\\simplepower\\simplepower\\Dataclasses\\GridDataClass.py:90\u001b[0m, in \u001b[0;36mGridDataClass._set_lim_vals\u001b[1;34m(self)\u001b[0m\n\u001b[0;32m     88\u001b[0m \u001b[39mself\u001b[39m\u001b[39m.\u001b[39mI_lims_pu \u001b[39m=\u001b[39m np\u001b[39m.\u001b[39mzeros((\u001b[39mself\u001b[39m\u001b[39m.\u001b[39mN_buses, \u001b[39mself\u001b[39m\u001b[39m.\u001b[39mN_buses))\n\u001b[0;32m     89\u001b[0m \u001b[39mfor\u001b[39;00m idx, line \u001b[39min\u001b[39;00m \u001b[39mself\u001b[39m\u001b[39m.\u001b[39m_grid_lines\u001b[39m.\u001b[39miterrows(): \n\u001b[1;32m---> 90\u001b[0m     I_lim \u001b[39m=\u001b[39m line[\u001b[39m\"\u001b[39;49m\u001b[39mI_lim_A\u001b[39;49m\u001b[39m\"\u001b[39;49m]\n\u001b[0;32m     91\u001b[0m     i \u001b[39m=\u001b[39m line[\u001b[39m\"\u001b[39m\u001b[39mfrom_bus_idx\u001b[39m\u001b[39m\"\u001b[39m]\n\u001b[0;32m     92\u001b[0m     j \u001b[39m=\u001b[39m line[\u001b[39m\"\u001b[39m\u001b[39mto_bus_idx\u001b[39m\u001b[39m\"\u001b[39m]\n",
      "File \u001b[1;32mc:\\Users\\emelf\\Anaconda3\\envs\\simplepower\\lib\\site-packages\\pandas\\core\\series.py:1007\u001b[0m, in \u001b[0;36mSeries.__getitem__\u001b[1;34m(self, key)\u001b[0m\n\u001b[0;32m   1004\u001b[0m     \u001b[39mreturn\u001b[39;00m \u001b[39mself\u001b[39m\u001b[39m.\u001b[39m_values[key]\n\u001b[0;32m   1006\u001b[0m \u001b[39melif\u001b[39;00m key_is_scalar:\n\u001b[1;32m-> 1007\u001b[0m     \u001b[39mreturn\u001b[39;00m \u001b[39mself\u001b[39;49m\u001b[39m.\u001b[39;49m_get_value(key)\n\u001b[0;32m   1009\u001b[0m \u001b[39mif\u001b[39;00m is_hashable(key):\n\u001b[0;32m   1010\u001b[0m     \u001b[39m# Otherwise index.get_value will raise InvalidIndexError\u001b[39;00m\n\u001b[0;32m   1011\u001b[0m     \u001b[39mtry\u001b[39;00m:\n\u001b[0;32m   1012\u001b[0m         \u001b[39m# For labels that don't resolve as scalars like tuples and frozensets\u001b[39;00m\n",
      "File \u001b[1;32mc:\\Users\\emelf\\Anaconda3\\envs\\simplepower\\lib\\site-packages\\pandas\\core\\series.py:1116\u001b[0m, in \u001b[0;36mSeries._get_value\u001b[1;34m(self, label, takeable)\u001b[0m\n\u001b[0;32m   1113\u001b[0m     \u001b[39mreturn\u001b[39;00m \u001b[39mself\u001b[39m\u001b[39m.\u001b[39m_values[label]\n\u001b[0;32m   1115\u001b[0m \u001b[39m# Similar to Index.get_value, but we do not fall back to positional\u001b[39;00m\n\u001b[1;32m-> 1116\u001b[0m loc \u001b[39m=\u001b[39m \u001b[39mself\u001b[39;49m\u001b[39m.\u001b[39;49mindex\u001b[39m.\u001b[39;49mget_loc(label)\n\u001b[0;32m   1118\u001b[0m \u001b[39mif\u001b[39;00m is_integer(loc):\n\u001b[0;32m   1119\u001b[0m     \u001b[39mreturn\u001b[39;00m \u001b[39mself\u001b[39m\u001b[39m.\u001b[39m_values[loc]\n",
      "File \u001b[1;32mc:\\Users\\emelf\\Anaconda3\\envs\\simplepower\\lib\\site-packages\\pandas\\core\\indexes\\base.py:3655\u001b[0m, in \u001b[0;36mIndex.get_loc\u001b[1;34m(self, key)\u001b[0m\n\u001b[0;32m   3653\u001b[0m     \u001b[39mreturn\u001b[39;00m \u001b[39mself\u001b[39m\u001b[39m.\u001b[39m_engine\u001b[39m.\u001b[39mget_loc(casted_key)\n\u001b[0;32m   3654\u001b[0m \u001b[39mexcept\u001b[39;00m \u001b[39mKeyError\u001b[39;00m \u001b[39mas\u001b[39;00m err:\n\u001b[1;32m-> 3655\u001b[0m     \u001b[39mraise\u001b[39;00m \u001b[39mKeyError\u001b[39;00m(key) \u001b[39mfrom\u001b[39;00m \u001b[39merr\u001b[39;00m\n\u001b[0;32m   3656\u001b[0m \u001b[39mexcept\u001b[39;00m \u001b[39mTypeError\u001b[39;00m:\n\u001b[0;32m   3657\u001b[0m     \u001b[39m# If we have a listlike key, _check_indexing_error will raise\u001b[39;00m\n\u001b[0;32m   3658\u001b[0m     \u001b[39m#  InvalidIndexError. Otherwise we fall through and re-raise\u001b[39;00m\n\u001b[0;32m   3659\u001b[0m     \u001b[39m#  the TypeError.\u001b[39;00m\n\u001b[0;32m   3660\u001b[0m     \u001b[39mself\u001b[39m\u001b[39m.\u001b[39m_check_indexing_error(key)\n",
      "\u001b[1;31mKeyError\u001b[0m: 'I_lim_A'"
     ]
    }
   ],
   "source": [
    "import_file = \"simplepower/GridData/grid_data6.xlsx\" \n",
    "grid_data = GridDataClass(import_file, f_nom=50)\n",
    "grid_model = GridModel(grid_data)\n",
    "result = grid_model.powerflow()\n",
    "result.store_json(\"simplepower//tests/PowerFlowResults/results_grid_6.json\")"
   ]
  }
 ],
 "metadata": {
  "kernelspec": {
   "display_name": "simplepower",
   "language": "python",
   "name": "python3"
  },
  "language_info": {
   "codemirror_mode": {
    "name": "ipython",
    "version": 3
   },
   "file_extension": ".py",
   "mimetype": "text/x-python",
   "name": "python",
   "nbconvert_exporter": "python",
   "pygments_lexer": "ipython3",
   "version": "3.10.0"
  },
  "orig_nbformat": 4
 },
 "nbformat": 4,
 "nbformat_minor": 2
}
