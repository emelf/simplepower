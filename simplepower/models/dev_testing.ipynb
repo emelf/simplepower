{
 "cells": [
  {
   "cell_type": "code",
   "execution_count": 1,
   "metadata": {},
   "outputs": [],
   "source": [
    "import pandas as pd \n",
    "import numpy as np \n",
    "from scipy.optimize import root \n",
    "\n",
    "from grid_model import GridDataClass, GridModel"
   ]
  },
  {
   "cell_type": "code",
   "execution_count": 2,
   "metadata": {},
   "outputs": [],
   "source": [
    "grid_data = GridDataClass(\"grid_data3.xlsx\", f_nom=50)\n",
    "grid_model = GridModel(grid_data) \n",
    "\n",
    "func = grid_model._setup_pf()"
   ]
  },
  {
   "cell_type": "code",
   "execution_count": 3,
   "metadata": {},
   "outputs": [
    {
     "data": {
      "text/plain": [
       "P_calc = [ 10.398 -50.     40.      5.     -5.   ] MW \n",
       "Q_calc = [  0.362 -20.      4.676  18.692  -2.   ] Mvar \n",
       "V_buses = [1.     0.9967 1.     1.02   0.9706] pu \n",
       "d_buses = [ 0.     -0.6802 -0.1677 -0.9242 -2.5985] deg "
      ]
     },
     "execution_count": 3,
     "metadata": {},
     "output_type": "execute_result"
    }
   ],
   "source": [
    "sol = grid_model.powerflow()\n",
    "sol"
   ]
  },
  {
   "cell_type": "code",
   "execution_count": 4,
   "metadata": {},
   "outputs": [
    {
     "data": {
      "text/plain": [
       "0.39785417841777715"
      ]
     },
     "execution_count": 4,
     "metadata": {},
     "output_type": "execute_result"
    }
   ],
   "source": [
    "sol.get_P_losses()"
   ]
  },
  {
   "cell_type": "code",
   "execution_count": 8,
   "metadata": {},
   "outputs": [
    {
     "name": "stdout",
     "output_type": "stream",
     "text": [
      "625 µs ± 7.08 µs per loop (mean ± std. dev. of 7 runs, 1,000 loops each)\n"
     ]
    }
   ],
   "source": [
    "%timeit grid_model.powerflow()"
   ]
  },
  {
   "cell_type": "code",
   "execution_count": 5,
   "metadata": {},
   "outputs": [
    {
     "data": {
      "text/plain": [
       "[BranchDataClass(S_base_mva=90, V_base_kV=132, r_l=0.02250902158676768, x_l=0.1331407994572996, idx_1=1, idx_2=3, g_1=0.00011118652080686351, b_1=-0.0033307349355535983, g_2=0.00011118652080686351, b_2=-0.0033307349355535983, is_pu=True)]"
      ]
     },
     "execution_count": 5,
     "metadata": {},
     "output_type": "execute_result"
    }
   ],
   "source": [
    "grid_data._trafo_data"
   ]
  },
  {
   "cell_type": "code",
   "execution_count": null,
   "metadata": {},
   "outputs": [],
   "source": []
  }
 ],
 "metadata": {
  "kernelspec": {
   "display_name": "lib_dev_env",
   "language": "python",
   "name": "python3"
  },
  "language_info": {
   "codemirror_mode": {
    "name": "ipython",
    "version": 3
   },
   "file_extension": ".py",
   "mimetype": "text/x-python",
   "name": "python",
   "nbconvert_exporter": "python",
   "pygments_lexer": "ipython3",
   "version": "3.10.9"
  },
  "orig_nbformat": 4,
  "vscode": {
   "interpreter": {
    "hash": "34a4ee2ed1d3fec65a0f938dda4ae1e74e037e79db28fd79e160c0ccb699c726"
   }
  }
 },
 "nbformat": 4,
 "nbformat_minor": 2
}
