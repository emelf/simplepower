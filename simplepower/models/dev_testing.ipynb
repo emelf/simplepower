{
 "cells": [
  {
   "cell_type": "code",
   "execution_count": 34,
   "metadata": {},
   "outputs": [],
   "source": [
    "import pandas as pd \n",
    "import numpy as np \n",
    "\n",
    "from scipy.optimize import root "
   ]
  },
  {
   "cell_type": "code",
   "execution_count": 5,
   "metadata": {},
   "outputs": [],
   "source": [
    "grid_buses = pd.read_excel(\"grid_data.xlsx\", sheet_name=\"busbars\")\n",
    "grid_lines = pd.read_excel(\"grid_data.xlsx\", sheet_name=\"lines\")\n",
    "grid_loads = pd.read_excel(\"grid_data.xlsx\", sheet_name=\"loads\")\n",
    "grid_gens  = pd.read_excel(\"grid_data.xlsx\", sheet_name=\"gens\")\n"
   ]
  },
  {
   "cell_type": "code",
   "execution_count": 104,
   "metadata": {},
   "outputs": [],
   "source": [
    "# Find the base values \n",
    "S_base_mva = grid_gens[\"S_rated_mva\"].sum()\n",
    "\n",
    "# Make the y_bus: \n",
    "y_bus = np.zeros((grid_buses.shape[0], grid_buses.shape[0]), dtype=np.complex64)\n",
    "for _, row in grid_lines.iterrows(): \n",
    "    v_base = row[\"v_nom_kv\"]\n",
    "    r = row[\"r_ohm_per_km\"]\n",
    "    x = row[\"x_ohm_per_km\"] \n",
    "    c = row[\"c_uf_per_km\"]\n",
    "    i = row[\"from_bus_idx\"]\n",
    "    j = row[\"to_bus_idx\"]\n",
    "    z_base = v_base**2/S_base_mva\n",
    "    z_line = (r + 1j*x)/z_base\n",
    "    b_line_half = 2*np.pi*50*c*1e-6 / 2 * z_base #TODO: Find the frequency from somewhere else\n",
    "\n",
    "    y_bus[i, j] = -(z_line**-1)\n",
    "    y_bus[j, i] = -(z_line**-1)\n",
    "    y_bus[i, i] += b_line_half\n",
    "    y_bus[j, j] += b_line_half\n",
    "\n",
    "for i, y_row in enumerate(y_bus): \n",
    "    y_bus[i, i] = - sum(y_row) + y_row[i] \n"
   ]
  },
  {
   "cell_type": "code",
   "execution_count": null,
   "metadata": {},
   "outputs": [],
   "source": []
  },
  {
   "cell_type": "code",
   "execution_count": 105,
   "metadata": {},
   "outputs": [],
   "source": [
    "V_vals = np.array([1.0, 1.0])\n",
    "delta_vals = np.array([0.0, 0.0])\n",
    "P_vals = np.array([0, -10])/S_base_mva\n",
    "Q_vals = np.array([0, -5])/S_base_mva\n",
    "\n",
    "def get_pf_eqs(): \n",
    "    def pf_eq(X): \n",
    "        _delta = delta_vals.copy() \n",
    "        _v = V_vals.copy() \n",
    "        _delta[1] = X[0]\n",
    "        _v[1] = X[1]\n",
    "        v_vec = _v*np.cos(_delta) + _v*np.sin(_delta) * 1j \n",
    "\n",
    "        S_conj = v_vec.conj() * (y_bus @ v_vec)\n",
    "        P_calc = S_conj.real \n",
    "        Q_calc = -S_conj.imag \n",
    "        root_diff = np.array([P_vals[1] - P_calc[1], Q_vals[1] - Q_calc[1]])\n",
    "        return root_diff \n",
    "    return pf_eq "
   ]
  },
  {
   "cell_type": "code",
   "execution_count": 106,
   "metadata": {},
   "outputs": [
    {
     "data": {
      "text/plain": [
       " message: The solution converged.\n",
       " success: True\n",
       "  status: 1\n",
       "     fun: [-3.488e-12 -1.892e-11]\n",
       "       x: [-7.781e-02  9.304e-01]\n",
       "    nfev: 9\n",
       "    fjac: [[-9.365e-01  3.507e-01]\n",
       "           [-3.507e-01 -9.365e-01]]\n",
       "       r: [ 5.492e+00 -1.032e+00  5.015e+00]\n",
       "     qtf: [-6.892e-10  3.886e-09]"
      ]
     },
     "execution_count": 106,
     "metadata": {},
     "output_type": "execute_result"
    }
   ],
   "source": [
    "X0 = np.array([0.0, 1.0])\n",
    "func = get_pf_eqs()\n",
    "sol = root(func, X0)\n",
    "delta_vals[1] = sol.x[0]  \n",
    "V_vals[1] = sol.x[1] \n",
    "\n",
    "v_vec = V_vals*np.cos(delta_vals) + V_vals*np.sin(delta_vals) * 1j \n",
    "S_conj = v_vec * (y_bus @ v_vec)\n",
    "P_calc = S_conj.real \n",
    "Q_calc = -S_conj.imag \n",
    "sol"
   ]
  },
  {
   "cell_type": "code",
   "execution_count": 107,
   "metadata": {},
   "outputs": [
    {
     "name": "stdout",
     "output_type": "stream",
     "text": [
      "delta_2 = -4.457966848241377, V_2 = 0.9303508649967773\n"
     ]
    }
   ],
   "source": [
    "print(f\"delta_2 = {sol.x[0]*180/np.pi}, V_2 = {sol.x[1]}\")"
   ]
  },
  {
   "cell_type": "code",
   "execution_count": 108,
   "metadata": {},
   "outputs": [
    {
     "data": {
      "text/plain": [
       "array([10.29838097, -9.1042424 ])"
      ]
     },
     "execution_count": 108,
     "metadata": {},
     "output_type": "execute_result"
    }
   ],
   "source": [
    "P_calc * S_base_mva"
   ]
  },
  {
   "cell_type": "code",
   "execution_count": 109,
   "metadata": {},
   "outputs": [
    {
     "data": {
      "text/plain": [
       "array([ 6.1935239 , -6.48943529])"
      ]
     },
     "execution_count": 109,
     "metadata": {},
     "output_type": "execute_result"
    }
   ],
   "source": [
    "Q_calc * S_base_mva"
   ]
  },
  {
   "cell_type": "code",
   "execution_count": 1,
   "metadata": {},
   "outputs": [],
   "source": [
    "from grid_model import GridDataClass, GridModel\n",
    "import numpy as np\n",
    "from scipy.optimize import root "
   ]
  },
  {
   "cell_type": "code",
   "execution_count": 2,
   "metadata": {},
   "outputs": [],
   "source": [
    "grid_data = GridDataClass(\"grid_data.xlsx\", f_nom=50)\n",
    "grid_model = GridModel(grid_data) \n",
    "\n",
    "func = grid_model.setup_pf()"
   ]
  },
  {
   "cell_type": "code",
   "execution_count": 3,
   "metadata": {},
   "outputs": [
    {
     "name": "stdout",
     "output_type": "stream",
     "text": [
      "delta_2 = -4.038357723115159, V_2 = 0.8801433005619176\n"
     ]
    }
   ],
   "source": [
    "X0 = np.array([0.0, 1.0])\n",
    "sol = root(func, X0)\n",
    "print(f\"delta_2 = {sol.x[0]*180/np.pi}, V_2 = {sol.x[1]}\")"
   ]
  },
  {
   "cell_type": "code",
   "execution_count": 6,
   "metadata": {},
   "outputs": [],
   "source": []
  },
  {
   "cell_type": "code",
   "execution_count": 7,
   "metadata": {},
   "outputs": [],
   "source": []
  },
  {
   "cell_type": "code",
   "execution_count": 9,
   "metadata": {},
   "outputs": [
    {
     "name": "stdout",
     "output_type": "stream",
     "text": [
      "delta_2 = 68.22472610440269, V_2 = 1.3480853923910094\n"
     ]
    }
   ],
   "source": []
  },
  {
   "cell_type": "code",
   "execution_count": 8,
   "metadata": {},
   "outputs": [
    {
     "data": {
      "text/plain": [
       "array([  0., -10.,  -0.,  -5.])"
      ]
     },
     "execution_count": 8,
     "metadata": {},
     "output_type": "execute_result"
    }
   ],
   "source": [
    "func(X0) "
   ]
  },
  {
   "cell_type": "code",
   "execution_count": 9,
   "metadata": {},
   "outputs": [
    {
     "data": {
      "text/plain": [
       "(array([0, 1]), array([0, 1]))"
      ]
     },
     "execution_count": 9,
     "metadata": {},
     "output_type": "execute_result"
    }
   ],
   "source": [
    "grid_data.get_PQ_mask() "
   ]
  },
  {
   "cell_type": "code",
   "execution_count": 11,
   "metadata": {},
   "outputs": [
    {
     "data": {
      "text/plain": [
       "array([0, 1, 0, 1, 0, 1])"
      ]
     },
     "execution_count": 11,
     "metadata": {},
     "output_type": "execute_result"
    }
   ],
   "source": [
    "a = np.array([0,1,2,3,4,5])\n",
    "a[np.array([0,1,0,1,0,1])]"
   ]
  },
  {
   "cell_type": "code",
   "execution_count": null,
   "metadata": {},
   "outputs": [],
   "source": []
  }
 ],
 "metadata": {
  "kernelspec": {
   "display_name": "lib_dev_env",
   "language": "python",
   "name": "python3"
  },
  "language_info": {
   "codemirror_mode": {
    "name": "ipython",
    "version": 3
   },
   "file_extension": ".py",
   "mimetype": "text/x-python",
   "name": "python",
   "nbconvert_exporter": "python",
   "pygments_lexer": "ipython3",
   "version": "3.10.9"
  },
  "orig_nbformat": 4,
  "vscode": {
   "interpreter": {
    "hash": "34a4ee2ed1d3fec65a0f938dda4ae1e74e037e79db28fd79e160c0ccb699c726"
   }
  }
 },
 "nbformat": 4,
 "nbformat_minor": 2
}
